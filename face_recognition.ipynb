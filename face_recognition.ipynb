{
 "cells": [
  {
   "cell_type": "code",
   "execution_count": null,
   "metadata": {},
   "outputs": [],
   "source": [
    "# !pip3 install face_recognition\n",
    "import face_recognition\n",
    "import numpy as np\n",
    "from PIL import Image, ImageDraw\n",
    "from IPython.display import display\n",
    "from list import convert\n",
    "from learn import learn\n",
    "from final import final\n",
    "\n",
    "# Training The Model\n",
    "known_face_encodings, known_face_names = learn()"
   ]
  },
  {
   "cell_type": "code",
   "execution_count": null,
   "metadata": {},
   "outputs": [],
   "source": [
    "final('img_test/i.jpg', known_face_encodings, known_face_names)"
   ]
  },
  {
   "cell_type": "code",
   "execution_count": null,
   "metadata": {},
   "outputs": [],
   "source": [
    "final('img_test/0_obama and biden.jpg', known_face_encodings, known_face_names)"
   ]
  },
  {
   "cell_type": "code",
   "execution_count": null,
   "metadata": {},
   "outputs": [],
   "source": [
    "final('img_test/kohli_test.jpeg', known_face_encodings, known_face_names)"
   ]
  },
  {
   "cell_type": "code",
   "execution_count": null,
   "id": "27b8186e",
   "metadata": {},
   "outputs": [],
   "source": [
    "from live_webcam import live_feed_detection\n",
    "live_feed_detection()"
   ]
  },
  {
   "cell_type": "code",
   "execution_count": null,
   "id": "db168414",
   "metadata": {},
   "outputs": [],
   "source": []
  }
 ],
 "metadata": {
  "kernelspec": {
   "display_name": "Python 3.10.4 ('face_recognition')",
   "language": "python",
   "name": "python3"
  },
  "language_info": {
   "codemirror_mode": {
    "name": "ipython",
    "version": 3
   },
   "file_extension": ".py",
   "mimetype": "text/x-python",
   "name": "python",
   "nbconvert_exporter": "python",
   "pygments_lexer": "ipython3",
   "version": "3.10.4"
  },
  "vscode": {
   "interpreter": {
    "hash": "714433f756bec1b889f9cc77997ccd4b9f2ba8e49d6559a0b44432bd66a40a66"
   }
  }
 },
 "nbformat": 4,
 "nbformat_minor": 5
}
